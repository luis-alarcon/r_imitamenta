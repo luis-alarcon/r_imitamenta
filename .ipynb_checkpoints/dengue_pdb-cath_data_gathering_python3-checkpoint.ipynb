{
 "cells": [
  {
   "cell_type": "markdown",
   "metadata": {},
   "source": [
    "<h1>Project Imitamenta</h1>\n",
    "<h2>Protein imitation in Dengue </h2>"
   ]
  },
  {
   "cell_type": "markdown",
   "metadata": {},
   "source": [
    "<h3>Abstract</h3>"
   ]
  },
  {
   "cell_type": "markdown",
   "metadata": {},
   "source": [
    "<h3>Introduction</h3>\n",
    "\n",
    " "
   ]
  },
  {
   "cell_type": "markdown",
   "metadata": {},
   "source": [
    "<ol>\n",
    "<li><h4>Dengue: A Clinical Apporach</h4></li>\n",
    "    <p>Dengue Fever is a deadly disease caused by the dengue fever virus.  It is one of the most widely spread mosquito-borne diseases (WHO and HealthMap.org, 1997). According to the World Health Organization (WHO, 2012), around 40 % of the world population is at risk of contracting dengue, especially in the tropical and subtropical regions (WHO and HealthMap.org, 1997) (Fig 1.1).  It is estimated that the rate of dengue infection might be as high as 100 million cases annually and about 500,000 per year require hospitalization (Halstead et al., 2007; WHO, 2012).</p>\n",
    "</ol>"
   ]
  },
  {
   "cell_type": "code",
   "execution_count": 1,
   "metadata": {},
   "outputs": [],
   "source": [
    "#Import of pakcages used in the project\n",
    "import pandas as pd #Pandas are really useful for fast dataframe analysis\n",
    "import numpy \n",
    "import glob\n",
    "import requests\n",
    "import os\n",
    "from bs4 import BeautifulSoup\n",
    "import pypdb\n",
    "import zipfile"
   ]
  },
  {
   "cell_type": "markdown",
   "metadata": {},
   "source": []
  },
  {
   "cell_type": "code",
   "execution_count": 2,
   "metadata": {},
   "outputs": [],
   "source": [
    "# Firstly, we will retrieve the search query with the following parameters from uniprot\n",
    "# Taxonomy: 12637, dengue virus\n",
    "# Format = Tibular\n",
    "# Limit = 10000 \n",
    "# columns: ID, protein name and status \n",
    "url=\"https://www.uniprot.org/uniprot/?query=taxonomy:12637&format=tab&sort=score&columns=id,protein%20names,reviewed\"\n",
    "\n",
    "#We store the data in the url into a variable \n",
    "c=pd.read_csv(url, \"\\t\")\n",
    "\n"
   ]
  },
  {
   "cell_type": "code",
   "execution_count": 3,
   "metadata": {},
   "outputs": [],
   "source": [
    "# we will separate the data into 2 variables and transform \n",
    "# them into dataframe in numpy\n",
    "\n",
    "unreviewed_uniprot_dengue = c.loc[c['Status'] == \"unreviewed\"] \n",
    "reviewed_uniprot_dengue = c.loc[c['Status'] == \"reviewed\"] \n",
    "\n",
    "df_unreviewed_uniprot_dengue = pd.DataFrame(unreviewed_uniprot_dengue)\n",
    "df_reviewed_uniprot_dengue = pd.DataFrame(reviewed_uniprot_dengue)"
   ]
  },
  {
   "cell_type": "code",
   "execution_count": 4,
   "metadata": {},
   "outputs": [],
   "source": [
    "path = \"./datasets/dengue_uniprot/uniprot_dengue_list_reviewed.csv\"\n",
    "df_unreviewed_uniprot_dengue.to_csv(path, index=False, compression='gzip')\n",
    "path = \"./datasets/dengue_uniprot/uniprot_dengue_list_unreviewed.csv\"\n",
    "df_reviewed_uniprot_dengue.to_csv(path, index=False, compression='gzip')"
   ]
  },
  {
   "cell_type": "code",
   "execution_count": 5,
   "metadata": {},
   "outputs": [],
   "source": [
    "# We will upload the dataset from cath3d with the sequence datam\n",
    "# ftp://orengoftp.biochem.ucl.ac.uk/cath/releases/latest-release/sequence-data/cath-uniprot-annotations.tsv.gz\n",
    "df_cath = pd.read_csv('./datasets/cath_uniprot/cath-uniprot-annotations.tsv',delimiter=\"\\t\", chunksize=10000)"
   ]
  },
  {
   "cell_type": "code",
   "execution_count": 6,
   "metadata": {},
   "outputs": [],
   "source": [
    "def uniprot_to_pdb(code):\n",
    "    chunksize= 10**6 # We choose a chunk size of a million entries\n",
    "    previous = False # This variable allows to identify if matching entries were found in a previous chunk\n",
    "    for chunk in pd.read_csv('./datasets/cath_uniprot/cath-uniprot-annotations.tsv',delimiter=\"\\t\", chunksize=chunksize):\n",
    "        temp = chunk.loc[chunk[\"# UNIPROT_ACC\"] == code]\n",
    "        if not temp.empty: # check if the dataset is no empty\n",
    "            if previous == False: # if no match is found in a previous chunk\n",
    "                df_code = temp[['# UNIPROT_ACC','MODEL_MATCH', 'BOUNDARIES','SUPERFAMILY']].copy().reset_index(drop=True)\n",
    "                df_code[\"PDB\"] = df_code[\"MODEL_MATCH\"].str[:4]\n",
    "                df_cath_temp = pd.DataFrame(columns=df_code.columns)\n",
    "                previous = True\n",
    "            else: # if a match is found in a previous chunk\n",
    "                df_code = temp[['# UNIPROT_ACC','MODEL_MATCH', 'BOUNDARIES','SUPERFAMILY']].copy().reset_index(drop=True)\n",
    "                df_code[\"PDB\"] = df_code[\"MODEL_MATCH\"].str[:4]\n",
    "                df_cath_temp = pd.concat([df_cath_temp,df_code])\n",
    "                print(df_code)\n",
    "        else: # check if temp is empty\n",
    "            if previous == False: # if temp is empty and no matches found in a the previous chunk\n",
    "                continue\n",
    "            else: # if there was a match found in a previous chunk\n",
    "                if df_cath_temp.empty: # if df_cath is empty we return the df_code\n",
    "                    path = \"./datasets/cath_uniprot/\"+code+\".csv\"\n",
    "                    df_code.to_csv(path, index=False, compression='gzip')\n",
    "                    return df_code\n",
    "                else: # if df_cath is not empty we return df_cath\n",
    "                    path = \"./datasets/cath_uniprot/\"+code+\".csv\"\n",
    "                    df_cath_temp.to_csv(path, index=False, compression='gzip')\n",
    "                    return df_cath_temp\n",
    "                "
   ]
  },
  {
   "cell_type": "code",
   "execution_count": 7,
   "metadata": {},
   "outputs": [],
   "source": [
    "# gathering PDB models for the Uniprot codes found for dengue\n",
    "df_cath = pd.DataFrame() # empty dataframe that will store all the data gathered\n",
    "for uniprot_code in df_reviewed_uniprot_dengue[\"Entry\"]:\n",
    "    a= uniprot_to_pdb(uniprot_code) # we store the results in a temporary variable called a\n",
    "    if not df_cath.empty: # if df_cath is not empty we concat a and df_cath\n",
    "            df_cath = pd.concat([df_cath,a])\n",
    "    else: # if df_cath is empty we store a into df_cath\n",
    "        df_cath=a\n",
    "df_cath = df_cath.reset_index(drop=True)\n",
    "path = \"./datasets/cath_uniprot/uniprot_to_pdb_total.csv\"\n",
    "df_cath.to_csv(path, index=False, compression='gzip')"
   ]
  },
  {
   "cell_type": "code",
   "execution_count": 8,
   "metadata": {},
   "outputs": [],
   "source": [
    "def find_MOL_des(pdb_name,uniprot_name): # function that finds the Mol description\n",
    "    pdb = pypdb.describe_pdb(pdb_name)\n",
    "    A=[] # temporary list for related pdb\n",
    "    B=[] # temporary list for details of related pdb\n",
    "    if 'relatedPDB' in pdb: # if relatedPDB is in pdb\n",
    "        temp = pdb[\"relatedPDB\"]\n",
    "        listORdict = isinstance(temp, list)\n",
    "        #if temp is a dict\n",
    "        if not listORdict:\n",
    "            l_key = list(temp)\n",
    "            A.append(temp[l_key[0]])\n",
    "            if temp[l_key[1]]:\n",
    "                #a non-empty variable\n",
    "                B.append((temp[l_key[1]]))\n",
    "            else:\n",
    "            #an empty variable\n",
    "                B.append(\"None\")\n",
    "        #If temp is a list\n",
    "        else:\n",
    "            for i in range(len(temp)):\n",
    "                l_key = list(temp[i])\n",
    "                A.append(temp[i][l_key[0]])\n",
    "                if temp[i][l_key[1]]:\n",
    "                    #a non-empty variable\n",
    "                    B.append((temp[i][l_key[1]]))\n",
    "                else:\n",
    "                    #an empty variable\n",
    "                    B.append(None)\n",
    "    else: # if no related PDB is available\n",
    "        A.append(None)\n",
    "        B.append(None)\n",
    "    pdb.pop('relatedPDB',None) # we remove relatedPDB key from pdb\n",
    "    pdb[\"uniprot_code\"]=uniprot_name # we store uniprot code\n",
    "    pdb[\"related_pdb\"]= A \n",
    "    pdb[\"ralated_pdb_details\"] = B\n",
    "    file_name = uniprot_name+\"-\"+pdb_name\n",
    "    pdb_related = pd.DataFrame.from_dict(pdb)\n",
    "    path = \"./datasets/pdb_descriptions/\"+file_name+\".csv\"\n",
    "    pdb_related.to_csv(path, index=False, compression='gzip')\n",
    "    return pdb_related\n"
   ]
  },
  {
   "cell_type": "code",
   "execution_count": 9,
   "metadata": {},
   "outputs": [
    {
     "name": "stderr",
     "output_type": "stream",
     "text": [
      "/anaconda3/lib/python3.6/site-packages/ipykernel_launcher.py:5: FutureWarning: Sorting because non-concatenation axis is not aligned. A future version\n",
      "of pandas will change to not sort by default.\n",
      "\n",
      "To accept the future behavior, pass 'sort=False'.\n",
      "\n",
      "To retain the current behavior and silence the warning, pass 'sort=True'.\n",
      "\n",
      "  \"\"\"\n"
     ]
    }
   ],
   "source": [
    "df_pdb = pd.DataFrame() # new dataframe for the pdb files\n",
    "for i in  range(len(df_cath[\"MODEL_MATCH\"])):\n",
    "    a= find_MOL_des(df_cath[\"MODEL_MATCH\"][i],df_cath[\"# UNIPROT_ACC\"][i])\n",
    "    if not df_pdb.empty:\n",
    "        df_pdb = pd.concat([df_pdb, a],ignore_index=True)\n",
    "    else:\n",
    "        df_pdb=a.copy()\n",
    "\n",
    "df_pdb = df_pdb.reset_index(drop=True)\n",
    "path = \"./datasets/pdb_descriptions/pdb_description_total.csv\"\n",
    "df_pdb.to_csv(path, index=False, compression='gzip')"
   ]
  },
  {
   "cell_type": "code",
   "execution_count": 10,
   "metadata": {},
   "outputs": [],
   "source": [
    "# Organizing the data into CATH superfamilies\n",
    "dengue_superfamilies = df_cath[\"SUPERFAMILY\"].unique()\n",
    "#store df_cath by superfamilies\n",
    "for sf in dengue_superfamilies:\n",
    "    df_superfamilies = df_cath.loc[df_cath[\"SUPERFAMILY\"] == sf]\n",
    "    path = \"./datasets/info_superfamily/\"+sf+\".csv\"\n",
    "    df_superfamilies.to_csv(path, index=False, compression='gzip')"
   ]
  },
  {
   "cell_type": "code",
   "execution_count": 23,
   "metadata": {},
   "outputs": [
    {
     "name": "stdout",
     "output_type": "stream",
     "text": [
      "    # UNIPROT_ACC MODEL_MATCH BOUNDARIES  SUPERFAMILY   PDB\n",
      "15         P14340     1r6rA00     21-100  1.10.10.930  1r6r\n",
      "31         P12823     1r6rA00     21-100  1.10.10.930  1r6r\n",
      "48         Q6YMS3     1r6rA00     21-100  1.10.10.930  1r6r\n",
      "64         Q5UCB8     1r6rA00      20-99  1.10.10.930  1r6r\n",
      "72         P27912     1r6rA00     21-100  1.10.10.930  1r6r\n",
      "88         P14337     1r6rA00     21-100  1.10.10.930  1r6r\n",
      "104        Q5UB51     1r6rA00     21-100  1.10.10.930  1r6r\n",
      "120        Q2YHF2     1r6rA00      20-99  1.10.10.930  1r6r\n",
      "128        P27913     1r6rA00     21-100  1.10.10.930  1r6r\n",
      "144        P33478     1r6rA00     21-100  1.10.10.930  1r6r\n",
      "160        Q99D35     1r6rA00     21-100  1.10.10.930  1r6r\n",
      "176        Q2YHF0     1r6rA00      20-99  1.10.10.930  1r6r\n",
      "192        P17763     1r6rA00     21-100  1.10.10.930  1r6r\n",
      "208        Q9WDA6     1r6rA00     21-100  1.10.10.930  1r6r\n",
      "233        P27915     1r6rA00     21-100  1.10.10.930  1r6r\n",
      "249        Q58HT7     1r6rA00      20-99  1.10.10.930  1r6r\n",
      "265        P29990     1r6rA00     21-100  1.10.10.930  1r6r\n",
      "281        P07564     1r6rA00     21-100  1.10.10.930  1r6r\n",
      "297        P27909     1r6rA00     21-100  1.10.10.930  1r6r\n",
      "313        P09866     1r6rA00      20-99  1.10.10.930  1r6r\n",
      "329        P29991     1r6rA00     21-100  1.10.10.930  1r6r\n",
      "345        Q6YMS4     1r6rA00     21-100  1.10.10.930  1r6r\n",
      "353        P30026     1r6rA00     21-100  1.10.10.930  1r6r\n"
     ]
    }
   ],
   "source": [
    "print(df_superfamilies)\n",
    "df_temp_mitb = pd.read_csv('./datasets/info_superfamily/All.mitab.01-22-2018.txt', delimiter=\"\\t\", chunksize = 10000)\n"
   ]
  },
  {
   "cell_type": "code",
   "execution_count": 149,
   "metadata": {},
   "outputs": [
    {
     "name": "stdout",
     "output_type": "stream",
     "text": [
      "#uidA                                                       uniprotkb:P32833\n",
      "uidB                                                        uniprotkb:P54784\n",
      "altA                       cygd:YBR060C|entrezgene/locuslink:852352|refse...\n",
      "altB                       cygd:YML065W|entrezgene/locuslink:854937|refse...\n",
      "aliasA                     hgnc:ORC2|uniprotkb:ORC2_YEAST|crogid:DO4Qfmfw...\n",
      "aliasB                     hgnc:ORC1|uniprotkb:ORC1_YEAST|crogid:ZTOvWqU+...\n",
      "method                        psi-mi:\"MI:0676\"(tandem affinity purification)\n",
      "author                                                         krogan-2006-2\n",
      "pmids                                                        pubmed:16554755\n",
      "taxa                            taxid:559292(Saccharomyces cerevisiae S288C)\n",
      "taxb                            taxid:559292(Saccharomyces cerevisiae S288C)\n",
      "interactionType                                MI:0915(physical association)\n",
      "sourcedb                                                     MI:0469(intact)\n",
      "interactionIdentifier      intact:EBI-8475686|rigid:MLDzKXy8Nn2DBH4AnKoF7...\n",
      "confidence                                              hpr:8818|lpr:5|np:12\n",
      "expansion                                                               none\n",
      "biological_role_A                                  MI:0499(unspecified role)\n",
      "biological_role_B                                  MI:0499(unspecified role)\n",
      "experimental_role_A                                            MI:0496(bait)\n",
      "experimental_role_B                                            MI:0498(prey)\n",
      "interactor_type_A                                           MI:0326(protein)\n",
      "interactor_type_B                                           MI:0326(protein)\n",
      "xrefs_A                                                                    -\n",
      "xrefs_B                                                                    -\n",
      "xrefs_Interaction                                                          -\n",
      "Annotations_A                                                              -\n",
      "Annotations_B                                                              -\n",
      "Annotations_Interaction                                                    -\n",
      "Host_organism_taxid                     taxid:4932(Saccharomyces cerevisiae)\n",
      "parameters_Interaction                                                     -\n",
      "Creation_date                                                     2018-01-22\n",
      "Update_date                                                       2018-01-22\n",
      "Checksum_A                           rogid:DO4QfmfwiE4RgbqHp4NRl5ryJhY559292\n",
      "Checksum_B                           rogid:ZTOvWqU+Rxwll7cRwOUsRqJC08M559292\n",
      "Checksum_Interaction                       rigid:MLDzKXy8Nn2DBH4AnKoF7aKtlWk\n",
      "Negative                                                               False\n",
      "OriginalReferenceA                                          uniprotkb:P32833\n",
      "OriginalReferenceB                                          uniprotkb:P54784\n",
      "FinalReferenceA                                             uniprotkb:P32833\n",
      "FinalReferenceB                                             uniprotkb:P54784\n",
      "MappingScoreA                                                              P\n",
      "MappingScoreB                                                              P\n",
      "irogida                                                             16825465\n",
      "irogidb                                                             16825463\n",
      "irigid                                                                933097\n",
      "crogida                                    DO4QfmfwiE4RgbqHp4NRl5ryJhY559292\n",
      "crogidb                                    ZTOvWqU+Rxwll7cRwOUsRqJC08M559292\n",
      "crigid                                           MLDzKXy8Nn2DBH4AnKoF7aKtlWk\n",
      "icrogida                                                            16825465\n",
      "icrogidb                                                            16825463\n",
      "icrigid                                                               933097\n",
      "imex_id                                                                    -\n",
      "edgetype                                                                   X\n",
      "numParticipants                                                            2\n",
      "Name: 0, dtype: object\n",
      "------------------------- Values -------------------------\n",
      "['uniprotkb:P32833' 'uniprotkb:P54784'\n",
      " 'cygd:YBR060C|entrezgene/locuslink:852352|refseq:NP_009616|rogid:DO4QfmfwiE4RgbqHp4NRl5ryJhY559292|irogid:16825465'\n",
      " 'cygd:YML065W|entrezgene/locuslink:854937|refseq:NP_013646|rogid:ZTOvWqU+Rxwll7cRwOUsRqJC08M559292|irogid:16825463'\n",
      " 'hgnc:ORC2|uniprotkb:ORC2_YEAST|crogid:DO4QfmfwiE4RgbqHp4NRl5ryJhY559292|icrogid:16825465'\n",
      " 'hgnc:ORC1|uniprotkb:ORC1_YEAST|crogid:ZTOvWqU+Rxwll7cRwOUsRqJC08M559292|icrogid:16825463'\n",
      " 'psi-mi:\"MI:0676\"(tandem affinity purification)' 'krogan-2006-2'\n",
      " 'pubmed:16554755' 'taxid:559292(Saccharomyces cerevisiae S288C)'\n",
      " 'taxid:559292(Saccharomyces cerevisiae S288C)'\n",
      " 'MI:0915(physical association)' 'MI:0469(intact)'\n",
      " 'intact:EBI-8475686|rigid:MLDzKXy8Nn2DBH4AnKoF7aKtlWk|edgetype:X'\n",
      " 'hpr:8818|lpr:5|np:12' 'none' 'MI:0499(unspecified role)'\n",
      " 'MI:0499(unspecified role)' 'MI:0496(bait)' 'MI:0498(prey)'\n",
      " 'MI:0326(protein)' 'MI:0326(protein)' '-' '-' '-' '-' '-' '-'\n",
      " 'taxid:4932(Saccharomyces cerevisiae)' '-' '2018-01-22' '2018-01-22'\n",
      " 'rogid:DO4QfmfwiE4RgbqHp4NRl5ryJhY559292'\n",
      " 'rogid:ZTOvWqU+Rxwll7cRwOUsRqJC08M559292'\n",
      " 'rigid:MLDzKXy8Nn2DBH4AnKoF7aKtlWk' False 'uniprotkb:P32833'\n",
      " 'uniprotkb:P54784' 'uniprotkb:P32833' 'uniprotkb:P54784' 'P' 'P' 16825465\n",
      " 16825463 933097 'DO4QfmfwiE4RgbqHp4NRl5ryJhY559292'\n",
      " 'ZTOvWqU+Rxwll7cRwOUsRqJC08M559292' 'MLDzKXy8Nn2DBH4AnKoF7aKtlWk'\n",
      " 16825465 16825463 933097 '-' 'X' 2]\n",
      "54\n"
     ]
    }
   ],
   "source": [
    "# make the \n",
    "for chunk in df_temp_mitb:\n",
    "    chunk=chunk.reset_index(drop=True)\n",
    "    print(chunk.loc[0])    \n",
    "    print(\"------------------------- Values -------------------------\")\n",
    "    for values in chunk.values:\n",
    "        print(values)\n",
    "        print(len(values))\n",
    "        break\n",
    "    break\n"
   ]
  },
  {
   "cell_type": "code",
   "execution_count": 204,
   "metadata": {},
   "outputs": [
    {
     "name": "stdout",
     "output_type": "stream",
     "text": [
      "0                              YBR060C\n",
      "1                               852352\n",
      "2                            NP_009616\n",
      "3    DO4QfmfwiE4RgbqHp4NRl5ryJhY559292\n",
      "4                             16825465\n",
      "dtype: object\n"
     ]
    }
   ],
   "source": [
    "chunk=chunk.reset_index(drop=True)\n",
    "l_key = chunk.columns\n",
    "d = dict.fromkeys(l_key, [])\n",
    "temp = {}\n",
    "for column, values in chunk.iteritems():\n",
    "    print(column)\n",
    "    #process uidA\n",
    "    if column == \"#uidA\":\n",
    "        temp['a_type_id'], temp['a_id'] = values.str.split(':', 1).str\n",
    "    #process uidB\n",
    "    if column == \"uidB\":\n",
    "        temp['b_type_id'], temp['b_id'] = values.str.split(':', 1).str\n",
    "    if column\n",
    "    if column == \"numParticipants\":\n",
    "        temp[\"numParticipants\"] = values\n",
    "    #if column == \"altA\":\n",
    "    #    a = str(values[0])\n",
    "    #    b = a.split(\"|\")\n",
    "    #    b_series = pd.Series(b)\n",
    "    #    c,d = b_series.str.split(':', 1).str\n",
    "    #    print(d)\n",
    "    #    break\n",
    "    \n",
    "    "
   ]
  },
  {
   "cell_type": "code",
   "execution_count": null,
   "metadata": {},
   "outputs": [],
   "source": [
    "#change delimeter and add column names\n",
    "ii_columns = ['uidA','uidB','altA','altB','aliasA','aliasB','method','author'\n",
    "              ,'pmids','taxa','taxb','interactionType','sourcedb','interactionIdentifier'\n",
    "              ,'confidence','expansion','biological_role_A','biological_role_B'\n",
    "              ,'experimental_role_A','experimental_role_B','interactor_type_A'\n",
    "              ,'interactor_type_B','xrefs_A','xrefs_B','xrefs_Interaction',\n",
    "              'Annotations_A','Annotations_B','Annotations_Interaction',\n",
    "              'Host_organism_taxid','parameters_Interaction','Creation_date',\n",
    "              'Update_date','Checksum_A','Checksum_B','Checksum_Interaction',\n",
    "              'Negative','OriginalReferenceA','OriginalReferenceB','FinalReferenceA'\n",
    "              ,'FinalReferenceB','MappingScoreA','MappingScoreB','irogida'\n",
    "              ,'irogidb','irigid','crogida','crogidb','crigid',\n",
    "              'icrogida','icrogidb','icrigid','imex_id','edgetype','numParticipants']\n",
    "df_irefindex = pd.read_csv('http://irefindex.org/download/irefindex/data/archive/release_15.0/psi_mitab/MITAB2.6/All.mitab.22012018.txt.zip',skiprows=1,delimiter='\\\\',header=None ,compression='zip',error_bad_lines=False)\n",
    "df_irefindex.columns = ii_columns"
   ]
  },
  {
   "cell_type": "code",
   "execution_count": null,
   "metadata": {},
   "outputs": [],
   "source": [
    "sample=pd.read_csv(StringIO(''.join(l.replace('', ',') for l in open('stuff.csv'))))"
   ]
  },
  {
   "cell_type": "code",
   "execution_count": null,
   "metadata": {},
   "outputs": [],
   "source": [
    "with zipfile.ZipFile('http://irefindex.org/download/irefindex/data/current/psi_mitab/MITAB2.6/All.mitab.22012018.txt.zip') as z:\n",
    "    with z.open('All.mitab.22012018.txt') as f:\n",
    "        for line in f:\n",
    "            print(line)"
   ]
  },
  {
   "cell_type": "code",
   "execution_count": null,
   "metadata": {},
   "outputs": [],
   "source": [
    "import urllib3\n",
    "\n",
    "http = urllib3.PoolManager()\n",
    "\n",
    "R = http.request('GET', \"http://irefindex.org/download/irefindex/data/current/psi_mitab/MITAB2.6/All.mitab.22012018.txt.zip\")"
   ]
  },
  {
   "cell_type": "code",
   "execution_count": null,
   "metadata": {},
   "outputs": [],
   "source": [
    "print(R.read)"
   ]
  }
 ],
 "metadata": {
  "kernelspec": {
   "display_name": "Python 3",
   "language": "python",
   "name": "python3"
  },
  "language_info": {
   "codemirror_mode": {
    "name": "ipython",
    "version": 3
   },
   "file_extension": ".py",
   "mimetype": "text/x-python",
   "name": "python",
   "nbconvert_exporter": "python",
   "pygments_lexer": "ipython3",
   "version": "3.6.6"
  }
 },
 "nbformat": 4,
 "nbformat_minor": 2
}
