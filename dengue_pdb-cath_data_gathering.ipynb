{
 "cells": [
  {
   "cell_type": "markdown",
   "metadata": {},
   "source": [
    "<h1>Project Imitamenta</h1>\n",
    "<h2>Protein imitation in Dengue </h2>"
   ]
  },
  {
   "cell_type": "markdown",
   "metadata": {},
   "source": [
    "<h3>Abstract</h3>"
   ]
  },
  {
   "cell_type": "markdown",
   "metadata": {},
   "source": [
    "<h3>Introduction</h3>\n",
    "\n",
    " "
   ]
  },
  {
   "cell_type": "markdown",
   "metadata": {},
   "source": [
    "<ol>\n",
    "<li><h4>Dengue: A Clinical Apporach</h4></li>\n",
    "    <p>Dengue Fever is a deadly disease caused by the dengue fever virus.  It is one of the most widely spread mosquito-borne diseases (WHO and HealthMap.org, 1997). According to the World Health Organization (WHO, 2012), around 40 % of the world population is at risk of contracting dengue, especially in the tropical and subtropical regions (WHO and HealthMap.org, 1997) (Fig 1.1).  It is estimated that the rate of dengue infection might be as high as 100 million cases annually and about 500,000 per year require hospitalization (Halstead et al., 2007; WHO, 2012).</p>\n",
    "</ol>"
   ]
  },
  {
   "cell_type": "code",
   "execution_count": 17,
   "metadata": {},
   "outputs": [],
   "source": [
    "#Import of pakcages used in the project\n",
    "import pandas as pd #Pandas are really useful for fast dataframe analysis\n",
    "import numpy \n",
    "import glob\n",
    "import requests\n",
    "import os\n",
    "from bs4 import BeautifulSoup\n",
    "import pypdb\n",
    "import zipfile"
   ]
  },
  {
   "cell_type": "markdown",
   "metadata": {},
   "source": []
  },
  {
   "cell_type": "code",
   "execution_count": 2,
   "metadata": {},
   "outputs": [],
   "source": [
    "# Firstly, we will retrieve the search query with the following parameters from uniprot\n",
    "# Taxonomy: 12637, dengue virus\n",
    "# Format = Tibular\n",
    "# Limit = 10000 \n",
    "# columns: ID, protein name and status \n",
    "url=\"https://www.uniprot.org/uniprot/?query=taxonomy:12637&format=tab&limit=10000&columns=id,protein%20names,reviewed\"\n",
    "\n",
    "#We store the data in the url into a variable \n",
    "c=pd.read_csv(url, \"\\t\")\n",
    "c.head()\n",
    "\n",
    "# we will separate the data into 2 variables and transform \n",
    "#them into dataframe in numpy\n",
    "\n",
    "ureviewed_uniprot_dengue = c.loc[c['Status'] == \"unreviewed\"] \n",
    "reviewed_uniprot_dengue = c.loc[c['Status'] == \"reviewed\"] \n",
    "\n",
    "df_unreviewed_uniprot_dengue = pd.DataFrame(ureviewed_uniprot_dengue)\n",
    "df_reviewed_uniprot_dengue = pd.DataFrame(reviewed_uniprot_dengue)"
   ]
  },
  {
   "cell_type": "code",
   "execution_count": 3,
   "metadata": {},
   "outputs": [],
   "source": [
    "# We will upload the dataset from cath3d with the sequence data\n",
    "# ftp://orengoftp.biochem.ucl.ac.uk/cath/releases/latest-release/sequence-data/cath-uniprot-annotations.tsv.gz\n",
    "df_cath = pd.read_csv('ftp://orengoftp.biochem.ucl.ac.uk/cath/releases/latest-release/sequence-data/cath-uniprot-annotations.tsv.gz',delimiter=\"\\t\",compression='gzip')"
   ]
  },
  {
   "cell_type": "code",
   "execution_count": 4,
   "metadata": {},
   "outputs": [],
   "source": [
    "# Gathering PDB description from rcsb\n",
    "def find_MOL_des(pdb_name):\n",
    "    pdb = pypdb.describe_pdb(pdb_name)\n",
    "    #Extract the title of the pdb\n",
    "    name = pdb[\"title\"]\n",
    "    #Extract the keywords associated with the pdb\n",
    "    keywords = pdb[\"keywords\"]\n",
    "    value = pdb.get(\"relatedPDB\",\"None\")\n",
    "    A=[]\n",
    "    B=[]\n",
    "    if \"relatedPDB\" not in pdb:\n",
    "        A.append(\"None\")\n",
    "        B.append(\"None\")\n",
    "    else:\n",
    "        temp = pdb[\"relatedPDB\"]\n",
    "        listORdict = isinstance(temp, list)\n",
    "        #if temp is a dict\n",
    "        if not listORdict:\n",
    "            l_key = list(temp)\n",
    "            A.append(temp[l_key[0]])\n",
    "            if temp[l_key[1]]:\n",
    "                #a non-empty variable\n",
    "                B.append((temp[l_key[1]]))\n",
    "            else:\n",
    "                #an empty variable\n",
    "                B.append(\"None\")\n",
    "        #If temp is a list\n",
    "        else:\n",
    "            for i in range(len(temp)):\n",
    "                l_key = list(temp[i])\n",
    "                A.append(temp[i][l_key[0]])\n",
    "                if temp[i][l_key[1]]:\n",
    "                    #a non-empty variable\n",
    "                    B.append((temp[i][l_key[1]]))\n",
    "                else:\n",
    "                    #an empty variable\n",
    "                    B.append(\"None\")\n",
    "        \n",
    "    authors = pdb[\"structure_authors\"].split(\".,\")\n",
    "    return name,keywords,A,B, authors\n",
    "    \n"
   ]
  },
  {
   "cell_type": "code",
   "execution_count": 5,
   "metadata": {},
   "outputs": [
    {
     "name": "stderr",
     "output_type": "stream",
     "text": [
      "/Users/carrell-big/anaconda3/lib/python3.6/site-packages/ipykernel_launcher.py:40: FutureWarning: Sorting because non-concatenation axis is not aligned. A future version\n",
      "of pandas will change to not sort by default.\n",
      "\n",
      "To accept the future behavior, pass 'sort=False'.\n",
      "\n",
      "To retain the current behavior and silence the warning, pass 'sort=True'.\n",
      "\n"
     ]
    }
   ],
   "source": [
    "n_columns = [\"UNIPROT\",\"MODEL_MATCH\",\"BOUNDARIES\",\"SUPERFAMILY\",\"PDB\",\"PDB_NAME\",\n",
    "           \"PDB_KEYWORDS\",\"PDB_RELATED_ID\",\"PDB_RELATED_DETAILS\",\"PDB_AUTHORS\"]\n",
    "df_code_total = pd.DataFrame(columns=n_columns)\n",
    "\n",
    "for uniprot_code in df_reviewed_uniprot_dengue[\"Entry\"]:\n",
    "    df_temp = []\n",
    "    temp = df_cath.loc[df_cath[\"# UNIPROT_ACC\"] == uniprot_code]\n",
    "    df_code = temp[['# UNIPROT_ACC','MODEL_MATCH', 'BOUNDARIES','SUPERFAMILY']].copy().reset_index()\n",
    "    df_code[\"PDB\"] = df_code[\"MODEL_MATCH\"].str[:4]\n",
    "    df_code = df_code.reset_index()\n",
    "    p_n=[]\n",
    "    p_k=[]\n",
    "    a=[]\n",
    "    b=[]\n",
    "    p_r= {\"RELATED_PDB_ID\":[],\"RELATED_PDB_DETAILS\":[]}\n",
    "    p_a=[]\n",
    "    # convert df_code into a dictionary\n",
    "    df_code = df_code.to_dict(\"list\")\n",
    "    df_code.pop(\"level_0\",None) # delete levels\n",
    "    df_code.pop(\"index\",None) # delete index\n",
    "    df_code[\"UNIPROT\"] = df_code.pop(\"# UNIPROT_ACC\")\n",
    "    #New keys in dictionary\n",
    "    df_code[\"PDB_NAME\"] = []\n",
    "    df_code[\"PDB_KEYWORDS\"] = []\n",
    "    df_code[\"PDB_RELATED_ID\"] = []\n",
    "    df_code[\"PDB_RELATED_DETAILS\"] = []\n",
    "    df_code[\"PDB_AUTHORS\"] = []\n",
    "    #Acquire PDB summary data, mentioned above in the new keys\n",
    "    for i in df_code[\"MODEL_MATCH\"]:\n",
    "        p_name,p_keywords, a,b, p_authors = find_MOL_des(i)\n",
    "        df_code[\"PDB_NAME\"].append(p_name)\n",
    "        df_code[\"PDB_KEYWORDS\"].append(p_keywords)\n",
    "        df_code[\"PDB_RELATED_ID\"].append(a)\n",
    "        df_code[\"PDB_RELATED_DETAILS\"].append(b)\n",
    "        df_code[\"PDB_AUTHORS\"].append(p_authors)\n",
    "    #Save files\n",
    "    df_code = pd.DataFrame.from_dict(df_code)\n",
    "    path = \"./datasets/info_uniprot/\"+uniprot_code+\".csv\"\n",
    "    df_code.to_csv(path, index=False, compression='gzip')\n",
    "    df_code_total = pd.concat([df_code_total,df_code])\n"
   ]
  },
  {
   "cell_type": "code",
   "execution_count": 6,
   "metadata": {},
   "outputs": [],
   "source": [
    "path = \"./datasets/info_uniprot/uniprot_PDB_superfamily.csv\"\n",
    "df_code_total.to_csv(path, index=False, compression='gzip')"
   ]
  },
  {
   "cell_type": "code",
   "execution_count": 7,
   "metadata": {},
   "outputs": [],
   "source": [
    "# Extract all known PDBS with the store CATH superfamily domains\n",
    "# from the list created before.\n",
    "\n",
    "dengue_superfamilies = df_code_total[\"SUPERFAMILY\"].drop_duplicates()\n",
    "df_sf_total = pd.DataFrame()\n",
    "for sf in dengue_superfamilies:\n",
    "    df_superfamilies = df_cath.loc[df_cath[\"SUPERFAMILY\"] == sf]\n",
    "    path = \"./datasets/info_superfamily/\"+sf+\".csv\"\n",
    "    df_superfamilies.to_csv(path, index=False, compression='gzip')\n",
    "    df_sf_total = pd.concat([df_sf_total,df_superfamilies])\n"
   ]
  },
  {
   "cell_type": "code",
   "execution_count": 8,
   "metadata": {},
   "outputs": [],
   "source": [
    "path = \"./datasets/info_superfamily/superfamily_total.csv\"\n",
    "df_sf_total.to_csv(path, index=False,compression='gzip')"
   ]
  },
  {
   "cell_type": "code",
   "execution_count": 16,
   "metadata": {},
   "outputs": [
    {
     "name": "stderr",
     "output_type": "stream",
     "text": [
      "b'Skipping line 1369665: expected 1 fields, saw 2\\n'\n"
     ]
    },
    {
     "ename": "ValueError",
     "evalue": "Length mismatch: Expected axis has 1 elements, new values have 54 elements",
     "output_type": "error",
     "traceback": [
      "\u001b[0;31m---------------------------------------------------------------------------\u001b[0m",
      "\u001b[0;31mValueError\u001b[0m                                Traceback (most recent call last)",
      "\u001b[0;32m<ipython-input-16-2369cbf55562>\u001b[0m in \u001b[0;36m<module>\u001b[0;34m()\u001b[0m\n\u001b[1;32m     13\u001b[0m               'icrogida','icrogidb','icrigid','imex_id','edgetype','numParticipants']\n\u001b[1;32m     14\u001b[0m \u001b[0mdf_irefindex\u001b[0m \u001b[0;34m=\u001b[0m \u001b[0mpd\u001b[0m\u001b[0;34m.\u001b[0m\u001b[0mread_csv\u001b[0m\u001b[0;34m(\u001b[0m\u001b[0;34m'http://irefindex.org/download/irefindex/data/archive/release_15.0/psi_mitab/MITAB2.6/All.mitab.22012018.txt.zip'\u001b[0m\u001b[0;34m,\u001b[0m\u001b[0mskiprows\u001b[0m\u001b[0;34m=\u001b[0m\u001b[0;36m1\u001b[0m\u001b[0;34m,\u001b[0m\u001b[0mdelimiter\u001b[0m\u001b[0;34m=\u001b[0m\u001b[0;34m'\\\\'\u001b[0m\u001b[0;34m,\u001b[0m\u001b[0mheader\u001b[0m\u001b[0;34m=\u001b[0m\u001b[0;32mNone\u001b[0m \u001b[0;34m,\u001b[0m\u001b[0mcompression\u001b[0m\u001b[0;34m=\u001b[0m\u001b[0;34m'zip'\u001b[0m\u001b[0;34m,\u001b[0m\u001b[0merror_bad_lines\u001b[0m\u001b[0;34m=\u001b[0m\u001b[0;32mFalse\u001b[0m\u001b[0;34m)\u001b[0m\u001b[0;34m\u001b[0m\u001b[0m\n\u001b[0;32m---> 15\u001b[0;31m \u001b[0mdf_irefindex\u001b[0m\u001b[0;34m.\u001b[0m\u001b[0mcolumns\u001b[0m \u001b[0;34m=\u001b[0m \u001b[0mii_columns\u001b[0m\u001b[0;34m\u001b[0m\u001b[0m\n\u001b[0m",
      "\u001b[0;32m~/anaconda3/lib/python3.6/site-packages/pandas/core/generic.py\u001b[0m in \u001b[0;36m__setattr__\u001b[0;34m(self, name, value)\u001b[0m\n\u001b[1;32m   4387\u001b[0m         \u001b[0;32mtry\u001b[0m\u001b[0;34m:\u001b[0m\u001b[0;34m\u001b[0m\u001b[0m\n\u001b[1;32m   4388\u001b[0m             \u001b[0mobject\u001b[0m\u001b[0;34m.\u001b[0m\u001b[0m__getattribute__\u001b[0m\u001b[0;34m(\u001b[0m\u001b[0mself\u001b[0m\u001b[0;34m,\u001b[0m \u001b[0mname\u001b[0m\u001b[0;34m)\u001b[0m\u001b[0;34m\u001b[0m\u001b[0m\n\u001b[0;32m-> 4389\u001b[0;31m             \u001b[0;32mreturn\u001b[0m \u001b[0mobject\u001b[0m\u001b[0;34m.\u001b[0m\u001b[0m__setattr__\u001b[0m\u001b[0;34m(\u001b[0m\u001b[0mself\u001b[0m\u001b[0;34m,\u001b[0m \u001b[0mname\u001b[0m\u001b[0;34m,\u001b[0m \u001b[0mvalue\u001b[0m\u001b[0;34m)\u001b[0m\u001b[0;34m\u001b[0m\u001b[0m\n\u001b[0m\u001b[1;32m   4390\u001b[0m         \u001b[0;32mexcept\u001b[0m \u001b[0mAttributeError\u001b[0m\u001b[0;34m:\u001b[0m\u001b[0;34m\u001b[0m\u001b[0m\n\u001b[1;32m   4391\u001b[0m             \u001b[0;32mpass\u001b[0m\u001b[0;34m\u001b[0m\u001b[0m\n",
      "\u001b[0;32mpandas/_libs/properties.pyx\u001b[0m in \u001b[0;36mpandas._libs.properties.AxisProperty.__set__\u001b[0;34m()\u001b[0m\n",
      "\u001b[0;32m~/anaconda3/lib/python3.6/site-packages/pandas/core/generic.py\u001b[0m in \u001b[0;36m_set_axis\u001b[0;34m(self, axis, labels)\u001b[0m\n\u001b[1;32m    644\u001b[0m \u001b[0;34m\u001b[0m\u001b[0m\n\u001b[1;32m    645\u001b[0m     \u001b[0;32mdef\u001b[0m \u001b[0m_set_axis\u001b[0m\u001b[0;34m(\u001b[0m\u001b[0mself\u001b[0m\u001b[0;34m,\u001b[0m \u001b[0maxis\u001b[0m\u001b[0;34m,\u001b[0m \u001b[0mlabels\u001b[0m\u001b[0;34m)\u001b[0m\u001b[0;34m:\u001b[0m\u001b[0;34m\u001b[0m\u001b[0m\n\u001b[0;32m--> 646\u001b[0;31m         \u001b[0mself\u001b[0m\u001b[0;34m.\u001b[0m\u001b[0m_data\u001b[0m\u001b[0;34m.\u001b[0m\u001b[0mset_axis\u001b[0m\u001b[0;34m(\u001b[0m\u001b[0maxis\u001b[0m\u001b[0;34m,\u001b[0m \u001b[0mlabels\u001b[0m\u001b[0;34m)\u001b[0m\u001b[0;34m\u001b[0m\u001b[0m\n\u001b[0m\u001b[1;32m    647\u001b[0m         \u001b[0mself\u001b[0m\u001b[0;34m.\u001b[0m\u001b[0m_clear_item_cache\u001b[0m\u001b[0;34m(\u001b[0m\u001b[0;34m)\u001b[0m\u001b[0;34m\u001b[0m\u001b[0m\n\u001b[1;32m    648\u001b[0m \u001b[0;34m\u001b[0m\u001b[0m\n",
      "\u001b[0;32m~/anaconda3/lib/python3.6/site-packages/pandas/core/internals.py\u001b[0m in \u001b[0;36mset_axis\u001b[0;34m(self, axis, new_labels)\u001b[0m\n\u001b[1;32m   3321\u001b[0m             raise ValueError(\n\u001b[1;32m   3322\u001b[0m                 \u001b[0;34m'Length mismatch: Expected axis has {old} elements, new '\u001b[0m\u001b[0;34m\u001b[0m\u001b[0m\n\u001b[0;32m-> 3323\u001b[0;31m                 'values have {new} elements'.format(old=old_len, new=new_len))\n\u001b[0m\u001b[1;32m   3324\u001b[0m \u001b[0;34m\u001b[0m\u001b[0m\n\u001b[1;32m   3325\u001b[0m         \u001b[0mself\u001b[0m\u001b[0;34m.\u001b[0m\u001b[0maxes\u001b[0m\u001b[0;34m[\u001b[0m\u001b[0maxis\u001b[0m\u001b[0;34m]\u001b[0m \u001b[0;34m=\u001b[0m \u001b[0mnew_labels\u001b[0m\u001b[0;34m\u001b[0m\u001b[0m\n",
      "\u001b[0;31mValueError\u001b[0m: Length mismatch: Expected axis has 1 elements, new values have 54 elements"
     ]
    }
   ],
   "source": [
    "#change delimeter and add column names\n",
    "ii_columns = ['uidA','uidB','altA','altB','aliasA','aliasB','method','author'\n",
    "              ,'pmids','taxa','taxb','interactionType','sourcedb','interactionIdentifier'\n",
    "              ,'confidence','expansion','biological_role_A','biological_role_B'\n",
    "              ,'experimental_role_A','experimental_role_B','interactor_type_A'\n",
    "              ,'interactor_type_B','xrefs_A','xrefs_B','xrefs_Interaction',\n",
    "              'Annotations_A','Annotations_B','Annotations_Interaction',\n",
    "              'Host_organism_taxid','parameters_Interaction','Creation_date',\n",
    "              'Update_date','Checksum_A','Checksum_B','Checksum_Interaction',\n",
    "              'Negative','OriginalReferenceA','OriginalReferenceB','FinalReferenceA'\n",
    "              ,'FinalReferenceB','MappingScoreA','MappingScoreB','irogida'\n",
    "              ,'irogidb','irigid','crogida','crogidb','crigid',\n",
    "              'icrogida','icrogidb','icrigid','imex_id','edgetype','numParticipants']\n",
    "df_irefindex = pd.read_csv('http://irefindex.org/download/irefindex/data/archive/release_15.0/psi_mitab/MITAB2.6/All.mitab.22012018.txt.zip',skiprows=1,delimiter='\\\\',header=None ,compression='zip',error_bad_lines=False)\n",
    "df_irefindex.columns = ii_columns"
   ]
  },
  {
   "cell_type": "code",
   "execution_count": 14,
   "metadata": {},
   "outputs": [
    {
     "data": {
      "text/html": [
       "<div>\n",
       "<style scoped>\n",
       "    .dataframe tbody tr th:only-of-type {\n",
       "        vertical-align: middle;\n",
       "    }\n",
       "\n",
       "    .dataframe tbody tr th {\n",
       "        vertical-align: top;\n",
       "    }\n",
       "\n",
       "    .dataframe thead th {\n",
       "        text-align: right;\n",
       "    }\n",
       "</style>\n",
       "<table border=\"1\" class=\"dataframe\">\n",
       "  <thead>\n",
       "    <tr style=\"text-align: right;\">\n",
       "      <th></th>\n",
       "      <th></th>\n",
       "      <th></th>\n",
       "      <th></th>\n",
       "      <th></th>\n",
       "      <th>#uidA\tuidB\taltA\taltB\taliasA\taliasB\tmethod\tauthor\tpmids\ttaxa\ttaxb\tinteractionType\tsourcedb\tinteractionIdentifier\tconfidence\texpansion\tbiological_role_A\tbiological_role_B\texperimental_role_A\texperimental_role_B\tinteractor_type_A\tinteractor_type_B\txrefs_A\txrefs_B\txrefs_Interaction\tAnnotations_A\tAnnotations_B\tAnnotations_Interaction\tHost_organism_taxid\tparameters_Interaction\tCreation_date\tUpdate_date\tChecksum_A\tChecksum_B\tChecksum_Interaction\tNegative\tOriginalReferenceA\tOriginalReferenceB\tFinalReferenceA\tFinalReferenceB\tMappingScoreA\tMappingScoreB\tirogida\tirogidb\tirigid\tcrogida\tcrogidb\tcrigid\ticrogida\ticrogidb\ticrigid\timex_id\tedgetype\tnumParticipants</th>\n",
       "    </tr>\n",
       "  </thead>\n",
       "  <tbody>\n",
       "    <tr>\n",
       "      <th rowspan=\"2\" valign=\"top\">uniprotkb:P54274\\tuniprotkb:O00410\\tentrezgene/locuslink:7013|refseq:NP_059523|uniprotkb:P54274|rogid:3Tjmp8hqEhLBIQqxxWHntpL4hz49606|irogid:5406538\\tentrezgene/locuslink:3843|uniprotkb:O00410|rogid:jBYLvkqyYyWAu1TdCVyCMh9ZHKY9606|irogid:2521025\\thgnc:TERF1|uniprotkb:TERF1_HUMAN|crogid:3Tjmp8hqEhLBIQqxxWHntpL4hz49606|icrogid:5406538\\thgnc:IPO5|uniprotkb:IPO5_HUMAN|crogid:jBYLvkqyYyWAu1TdCVyCMh9ZHKY9606|icrogid:2521025\\tpsi-mi:\"MI:0809\"(bimolecular</th>\n",
       "      <th rowspan=\"2\" valign=\"top\">fluorescence</th>\n",
       "      <th rowspan=\"2\" valign=\"top\">complementation)\\t-\\tpubmed:21044950\\ttaxid:9606(Homo</th>\n",
       "      <th rowspan=\"2\" valign=\"top\">sapiens)\\ttaxid:9606(Homo</th>\n",
       "      <th>sapiens)\\tpsi-mi:\"MI:0915\"(physical</th>\n",
       "      <td>association)\\tMI:1332(bhf-ucl)\\tintact:EBI-113...</td>\n",
       "    </tr>\n",
       "    <tr>\n",
       "      <th>sapiens)\\tpsi-mi:\"MI:0915\"(physical</th>\n",
       "      <td>association)\\tMI:1332(bhf-ucl)\\tintact:EBI-113...</td>\n",
       "    </tr>\n",
       "    <tr>\n",
       "      <th rowspan=\"2\" valign=\"top\">uniprotkb:P54274\\tuniprotkb:P49591\\tentrezgene/locuslink:7013|refseq:NP_059523|uniprotkb:P54274|rogid:3Tjmp8hqEhLBIQqxxWHntpL4hz49606|irogid:5406538\\tentrezgene/locuslink:6301|refseq:NP_006504|uniprotkb:P49591|rogid:4+Ai/MIybmiKJyfa0C0bhnW/CG49606|irogid:494867\\thgnc:TERF1|uniprotkb:TERF1_HUMAN|crogid:3Tjmp8hqEhLBIQqxxWHntpL4hz49606|icrogid:5406538\\thgnc:SARS|uniprotkb:SYSC_HUMAN|crogid:4+Ai/MIybmiKJyfa0C0bhnW/CG49606|icrogid:494867\\tpsi-mi:\"MI:0809\"(bimolecular</th>\n",
       "      <th rowspan=\"2\" valign=\"top\">fluorescence</th>\n",
       "      <th rowspan=\"2\" valign=\"top\">complementation)\\t-\\tpubmed:21044950\\ttaxid:9606(Homo</th>\n",
       "      <th rowspan=\"2\" valign=\"top\">sapiens)\\ttaxid:9606(Homo</th>\n",
       "      <th>sapiens)\\tpsi-mi:\"MI:0915\"(physical</th>\n",
       "      <td>association)\\tMI:1332(bhf-ucl)\\tintact:EBI-113...</td>\n",
       "    </tr>\n",
       "    <tr>\n",
       "      <th>sapiens)\\tpsi-mi:\"MI:0915\"(physical</th>\n",
       "      <td>association)\\tMI:1332(bhf-ucl)\\tintact:EBI-113...</td>\n",
       "    </tr>\n",
       "    <tr>\n",
       "      <th>uniprotkb:P54274\\tuniprotkb:Q9GZR7\\tentrezgene/locuslink:7013|refseq:NP_059523|uniprotkb:P54274|rogid:3Tjmp8hqEhLBIQqxxWHntpL4hz49606|irogid:5406538\\tentrezgene/locuslink:57062|refseq:NP_065147|uniprotkb:DDX24_HUMAN|rogid:n9gQabTC50Y/LtGMAMFNVgj12as9606|irogid:3170037\\thgnc:TERF1|uniprotkb:TERF1_HUMAN|crogid:3Tjmp8hqEhLBIQqxxWHntpL4hz49606|icrogid:5406538\\thgnc:DDX24|uniprotkb:DDX24_HUMAN|crogid:n9gQabTC50Y/LtGMAMFNVgj12as9606|icrogid:3170037\\tpsi-mi:\"MI:0809\"(bimolecular</th>\n",
       "      <th>fluorescence</th>\n",
       "      <th>complementation)\\t-\\tpubmed:21044950\\ttaxid:9606(Homo</th>\n",
       "      <th>sapiens)\\ttaxid:9606(Homo</th>\n",
       "      <th>sapiens)\\tpsi-mi:\"MI:0915\"(physical</th>\n",
       "      <td>association)\\tMI:1332(bhf-ucl)\\tintact:EBI-113...</td>\n",
       "    </tr>\n",
       "  </tbody>\n",
       "</table>\n",
       "</div>"
      ],
      "text/plain": [
       "                                                                                                                                                                                 #uidA\\tuidB\\taltA\\taltB\\taliasA\\taliasB\\tmethod\\tauthor\\tpmids\\ttaxa\\ttaxb\\tinteractionType\\tsourcedb\\tinteractionIdentifier\\tconfidence\\texpansion\\tbiological_role_A\\tbiological_role_B\\texperimental_role_A\\texperimental_role_B\\tinteractor_type_A\\tinteractor_type_B\\txrefs_A\\txrefs_B\\txrefs_Interaction\\tAnnotations_A\\tAnnotations_B\\tAnnotations_Interaction\\tHost_organism_taxid\\tparameters_Interaction\\tCreation_date\\tUpdate_date\\tChecksum_A\\tChecksum_B\\tChecksum_Interaction\\tNegative\\tOriginalReferenceA\\tOriginalReferenceB\\tFinalReferenceA\\tFinalReferenceB\\tMappingScoreA\\tMappingScoreB\\tirogida\\tirogidb\\tirigid\\tcrogida\\tcrogidb\\tcrigid\\ticrogida\\ticrogidb\\ticrigid\\timex_id\\tedgetype\\tnumParticipants\n",
       "uniprotkb:P54274\\tuniprotkb:O00410\\tentrezgene/... fluorescence complementation)\\t-\\tpubmed:21044950\\ttaxid:960... sapiens)\\ttaxid:9606(Homo sapiens)\\tpsi-mi:\"MI:0915\"(physical  association)\\tMI:1332(bhf-ucl)\\tintact:EBI-113...                                                                                                                                                                                                                                                                                                                                                                                                                                                                                                                                                                                                                                                                                 \n",
       "                                                                                                                                             sapiens)\\tpsi-mi:\"MI:0915\"(physical  association)\\tMI:1332(bhf-ucl)\\tintact:EBI-113...                                                                                                                                                                                                                                                                                                                                                                                                                                                                                                                                                                                                                                                                                 \n",
       "uniprotkb:P54274\\tuniprotkb:P49591\\tentrezgene/... fluorescence complementation)\\t-\\tpubmed:21044950\\ttaxid:960... sapiens)\\ttaxid:9606(Homo sapiens)\\tpsi-mi:\"MI:0915\"(physical  association)\\tMI:1332(bhf-ucl)\\tintact:EBI-113...                                                                                                                                                                                                                                                                                                                                                                                                                                                                                                                                                                                                                                                                                 \n",
       "                                                                                                                                             sapiens)\\tpsi-mi:\"MI:0915\"(physical  association)\\tMI:1332(bhf-ucl)\\tintact:EBI-113...                                                                                                                                                                                                                                                                                                                                                                                                                                                                                                                                                                                                                                                                                 \n",
       "uniprotkb:P54274\\tuniprotkb:Q9GZR7\\tentrezgene/... fluorescence complementation)\\t-\\tpubmed:21044950\\ttaxid:960... sapiens)\\ttaxid:9606(Homo sapiens)\\tpsi-mi:\"MI:0915\"(physical  association)\\tMI:1332(bhf-ucl)\\tintact:EBI-113...                                                                                                                                                                                                                                                                                                                                                                                                                                                                                                                                                                                                                                                                                 "
      ]
     },
     "execution_count": 14,
     "metadata": {},
     "output_type": "execute_result"
    }
   ],
   "source": [
    "sample=pd.read_csv(StringIO(''.join(l.replace('', ',') for l in open('stuff.csv'))))"
   ]
  },
  {
   "cell_type": "code",
   "execution_count": 20,
   "metadata": {},
   "outputs": [
    {
     "ename": "FileNotFoundError",
     "evalue": "[Errno 2] No such file or directory: 'http://irefindex.org/download/irefindex/data/archive/release_15.0/psi_mitab/MITAB2.6/All.mitab.22012018.txt.zip'",
     "output_type": "error",
     "traceback": [
      "\u001b[0;31m---------------------------------------------------------------------------\u001b[0m",
      "\u001b[0;31mFileNotFoundError\u001b[0m                         Traceback (most recent call last)",
      "\u001b[0;32m<ipython-input-20-ebffd23aca33>\u001b[0m in \u001b[0;36m<module>\u001b[0;34m()\u001b[0m\n\u001b[0;32m----> 1\u001b[0;31m \u001b[0;32mwith\u001b[0m \u001b[0mzipfile\u001b[0m\u001b[0;34m.\u001b[0m\u001b[0mZipFile\u001b[0m\u001b[0;34m(\u001b[0m\u001b[0;34m'http://irefindex.org/download/irefindex/data/archive/release_15.0/psi_mitab/MITAB2.6/All.mitab.22012018.txt.zip'\u001b[0m\u001b[0;34m)\u001b[0m \u001b[0;32mas\u001b[0m \u001b[0mz\u001b[0m\u001b[0;34m:\u001b[0m\u001b[0;34m\u001b[0m\u001b[0m\n\u001b[0m\u001b[1;32m      2\u001b[0m     \u001b[0;32mwith\u001b[0m \u001b[0mz\u001b[0m\u001b[0;34m.\u001b[0m\u001b[0mopen\u001b[0m\u001b[0;34m(\u001b[0m\u001b[0;34m'All.mitab.22012018.txt'\u001b[0m\u001b[0;34m)\u001b[0m \u001b[0;32mas\u001b[0m \u001b[0mf\u001b[0m\u001b[0;34m:\u001b[0m\u001b[0;34m\u001b[0m\u001b[0m\n\u001b[1;32m      3\u001b[0m         \u001b[0;32mfor\u001b[0m \u001b[0mline\u001b[0m \u001b[0;32min\u001b[0m \u001b[0mf\u001b[0m\u001b[0;34m:\u001b[0m\u001b[0;34m\u001b[0m\u001b[0m\n\u001b[1;32m      4\u001b[0m             \u001b[0mprint\u001b[0m\u001b[0;34m(\u001b[0m\u001b[0mline\u001b[0m\u001b[0;34m)\u001b[0m\u001b[0;34m\u001b[0m\u001b[0m\n",
      "\u001b[0;32m~/anaconda3/lib/python3.6/zipfile.py\u001b[0m in \u001b[0;36m__init__\u001b[0;34m(self, file, mode, compression, allowZip64)\u001b[0m\n\u001b[1;32m   1088\u001b[0m             \u001b[0;32mwhile\u001b[0m \u001b[0;32mTrue\u001b[0m\u001b[0;34m:\u001b[0m\u001b[0;34m\u001b[0m\u001b[0m\n\u001b[1;32m   1089\u001b[0m                 \u001b[0;32mtry\u001b[0m\u001b[0;34m:\u001b[0m\u001b[0;34m\u001b[0m\u001b[0m\n\u001b[0;32m-> 1090\u001b[0;31m                     \u001b[0mself\u001b[0m\u001b[0;34m.\u001b[0m\u001b[0mfp\u001b[0m \u001b[0;34m=\u001b[0m \u001b[0mio\u001b[0m\u001b[0;34m.\u001b[0m\u001b[0mopen\u001b[0m\u001b[0;34m(\u001b[0m\u001b[0mfile\u001b[0m\u001b[0;34m,\u001b[0m \u001b[0mfilemode\u001b[0m\u001b[0;34m)\u001b[0m\u001b[0;34m\u001b[0m\u001b[0m\n\u001b[0m\u001b[1;32m   1091\u001b[0m                 \u001b[0;32mexcept\u001b[0m \u001b[0mOSError\u001b[0m\u001b[0;34m:\u001b[0m\u001b[0;34m\u001b[0m\u001b[0m\n\u001b[1;32m   1092\u001b[0m                     \u001b[0;32mif\u001b[0m \u001b[0mfilemode\u001b[0m \u001b[0;32min\u001b[0m \u001b[0mmodeDict\u001b[0m\u001b[0;34m:\u001b[0m\u001b[0;34m\u001b[0m\u001b[0m\n",
      "\u001b[0;31mFileNotFoundError\u001b[0m: [Errno 2] No such file or directory: 'http://irefindex.org/download/irefindex/data/archive/release_15.0/psi_mitab/MITAB2.6/All.mitab.22012018.txt.zip'"
     ]
    }
   ],
   "source": [
    "with zipfile.ZipFile('http://irefindex.org/download/irefindex/data/archive/release_15.0/psi_mitab/MITAB2.6/All.mitab.22012018.txt.zip') as z:\n",
    "    with z.open('All.mitab.22012018.txt') as f:\n",
    "        for line in f:\n",
    "            print(line)"
   ]
  },
  {
   "cell_type": "code",
   "execution_count": 32,
   "metadata": {},
   "outputs": [],
   "source": [
    "import urllib3\n",
    "\n",
    "http = urllib3.PoolManager()\n",
    "\n",
    "R = http.request('GET', \"http://irefindex.org/download/irefindex/data/archive/release_15.0/psi_mitab/MITAB2.6/All.mitab.22012018.txt.zip\")"
   ]
  },
  {
   "cell_type": "code",
   "execution_count": null,
   "metadata": {},
   "outputs": [],
   "source": [
    "print(R.read)"
   ]
  }
 ],
 "metadata": {
  "kernelspec": {
   "display_name": "Python 3",
   "language": "python",
   "name": "python3"
  },
  "language_info": {
   "codemirror_mode": {
    "name": "ipython",
    "version": 3
   },
   "file_extension": ".py",
   "mimetype": "text/x-python",
   "name": "python",
   "nbconvert_exporter": "python",
   "pygments_lexer": "ipython3",
   "version": "3.6.5"
  }
 },
 "nbformat": 4,
 "nbformat_minor": 2
}
